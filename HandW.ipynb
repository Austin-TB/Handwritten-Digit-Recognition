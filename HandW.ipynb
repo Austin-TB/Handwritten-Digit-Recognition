{
 "cells": [
  {
   "cell_type": "code",
   "execution_count": 11,
   "metadata": {
    "_cell_guid": "b1076dfc-b9ad-4769-8c92-a6c4dae69d19",
    "_uuid": "8f2839f25d086af736a60e9eeb907d3b93b6e0e5",
    "execution": {
     "iopub.execute_input": "2020-11-24T15:33:44.617819Z",
     "iopub.status.busy": "2020-11-24T15:33:44.616734Z",
     "iopub.status.idle": "2020-11-24T15:33:48.545917Z",
     "shell.execute_reply": "2020-11-24T15:33:48.545192Z"
    },
    "papermill": {
     "duration": 3.947576,
     "end_time": "2020-11-24T15:33:48.546057",
     "exception": false,
     "start_time": "2020-11-24T15:33:44.598481",
     "status": "completed"
    },
    "tags": []
   },
   "outputs": [],
   "source": [
    "import numpy as np\n",
    "from matplotlib import pyplot as plt\n",
    "import networkx as nx\n",
    "import pandas as pd\n",
    "import scipy"
   ]
  },
  {
   "cell_type": "code",
   "execution_count": 2,
   "metadata": {
    "execution": {
     "iopub.execute_input": "2020-11-24T15:33:48.577955Z",
     "iopub.status.busy": "2020-11-24T15:33:48.576778Z",
     "iopub.status.idle": "2020-11-24T15:33:49.353469Z",
     "shell.execute_reply": "2020-11-24T15:33:49.352724Z"
    },
    "papermill": {
     "duration": 0.795759,
     "end_time": "2020-11-24T15:33:49.353603",
     "exception": false,
     "start_time": "2020-11-24T15:33:48.557844",
     "status": "completed"
    },
    "tags": []
   },
   "outputs": [],
   "source": [
    "\n",
    "data = pd.read_csv('mnist_train.csv')\n",
    "data = np.array(data)\n",
    "losses = []\n",
    "accuracies = []\n",
    "m, n = data.shape\n",
    "np.random.shuffle(data) # shuffle before splitting into dev and training sets\n",
    "\n",
    "data_dev = data[0:1000].T\n",
    "Y_dev = data_dev[0]\n",
    "X_dev = data_dev[1:n]\n",
    "X_dev = X_dev / 255.\n",
    "\n",
    "data_train = data[1000:m].T\n",
    "Y_train = data_train[0]\n",
    "X_train = data_train[1:n]\n",
    "X_train = X_train / 255.\n",
    "_,m_train = X_train.shape"
   ]
  },
  {
   "cell_type": "code",
   "execution_count": 4,
   "metadata": {
    "execution": {
     "iopub.execute_input": "2020-11-24T15:33:49.458553Z",
     "iopub.status.busy": "2020-11-24T15:33:49.457534Z",
     "iopub.status.idle": "2020-11-24T15:33:49.460243Z",
     "shell.execute_reply": "2020-11-24T15:33:49.460754Z"
    },
    "papermill": {
     "duration": 0.035762,
     "end_time": "2020-11-24T15:33:49.460906",
     "exception": false,
     "start_time": "2020-11-24T15:33:49.425144",
     "status": "completed"
    },
    "tags": []
   },
   "outputs": [],
   "source": [
    "def init_params():\n",
    "    W1 = np.random.rand(10, 784) - 0.5\n",
    "    b1 = np.random.rand(10, 1) - 0.5\n",
    "    W2 = np.random.rand(10, 10) - 0.5\n",
    "    b2 = np.random.rand(10, 1) - 0.5\n",
    "    return W1, b1, W2, b2\n",
    "\n",
    "def ReLU(Z):\n",
    "    return np.maximum(Z, 0)\n",
    "\n",
    "def softmax(Z):\n",
    "    A = np.exp(Z) / sum(np.exp(Z))\n",
    "    return A\n",
    "    \n",
    "def forward_prop(W1, b1, W2, b2, X):\n",
    "    Z1 = W1.dot(X) + b1\n",
    "    A1 = ReLU(Z1)\n",
    "    Z2 = W2.dot(A1) + b2\n",
    "    A2 = softmax(Z2)\n",
    "    return Z1, A1, Z2, A2\n",
    "\n",
    "def ReLU_deriv(Z):\n",
    "    return Z > 0\n",
    "\n",
    "def one_hot(Y):\n",
    "    one_hot_Y = np.zeros((Y.size, Y.max() + 1))\n",
    "    one_hot_Y[np.arange(Y.size), Y] = 1\n",
    "    one_hot_Y = one_hot_Y.T\n",
    "    return one_hot_Y\n",
    "\n",
    "def backward_prop(Z1, A1, Z2, A2, W1, W2, X, Y):\n",
    "    one_hot_Y = one_hot(Y)\n",
    "    dZ2 = A2 - one_hot_Y\n",
    "    dW2 = 1 / m * dZ2.dot(A1.T)\n",
    "    db2 = 1 / m * np.sum(dZ2)\n",
    "    dZ1 = W2.T.dot(dZ2) * ReLU_deriv(Z1)\n",
    "    dW1 = 1 / m * dZ1.dot(X.T)\n",
    "    db1 = 1 / m * np.sum(dZ1)\n",
    "    return dW1, db1, dW2, db2\n",
    "\n",
    "def update_params(W1, b1, W2, b2, dW1, db1, dW2, db2, alpha):\n",
    "    W1 = W1 - alpha * dW1\n",
    "    b1 = b1 - alpha * db1    \n",
    "    W2 = W2 - alpha * dW2  \n",
    "    b2 = b2 - alpha * db2    \n",
    "    return W1, b1, W2, b2"
   ]
  },
  {
   "cell_type": "code",
   "execution_count": 5,
   "metadata": {
    "execution": {
     "iopub.execute_input": "2020-11-24T15:33:49.496820Z",
     "iopub.status.busy": "2020-11-24T15:33:49.493109Z",
     "iopub.status.idle": "2020-11-24T15:33:49.499268Z",
     "shell.execute_reply": "2020-11-24T15:33:49.499782Z"
    },
    "papermill": {
     "duration": 0.026744,
     "end_time": "2020-11-24T15:33:49.499906",
     "exception": false,
     "start_time": "2020-11-24T15:33:49.473162",
     "status": "completed"
    },
    "tags": []
   },
   "outputs": [],
   "source": [
    "def get_predictions(A2):\n",
    "    return np.argmax(A2, 0)\n",
    "\n",
    "def get_accuracy(predictions, Y):\n",
    "    print(predictions, Y)\n",
    "    return np.sum(predictions == Y) / Y.size\n",
    "\n",
    "def compute_loss(Y, Y_hat):\n",
    "    one_hot_Y = one_hot(Y)\n",
    "    L_sum = np.sum(np.multiply(one_hot_Y, np.log(Y_hat)))\n",
    "    m = Y.shape[0]\n",
    "    L = -(1/m) * L_sum\n",
    "    return L\n",
    "\n",
    "def gradient_descent(X, Y, alpha, iterations):\n",
    "    W1, b1, W2, b2 = init_params()\n",
    "    for i in range(iterations):\n",
    "        Z1, A1, Z2, A2 = forward_prop(W1, b1, W2, b2, X)\n",
    "        dW1, db1, dW2, db2 = backward_prop(Z1, A1, Z2, A2, W1, W2, X, Y)\n",
    "        W1, b1, W2, b2 = update_params(W1, b1, W2, b2, dW1, db1, dW2, db2, alpha)\n",
    "        if i % 10 == 0:\n",
    "            print(\"Iteration: \", i)\n",
    "            predictions = get_predictions(A2)\n",
    "            accuracy = get_accuracy(predictions, Y)\n",
    "            print(accuracy)\n",
    "            loss = compute_loss(Y, A2)\n",
    "            losses.append(loss)\n",
    "            accuracies.append(accuracy)\n",
    "    return W1, b1, W2, b2"
   ]
  },
  {
   "cell_type": "code",
   "execution_count": 6,
   "metadata": {
    "execution": {
     "iopub.execute_input": "2020-11-24T15:33:49.529813Z",
     "iopub.status.busy": "2020-11-24T15:33:49.529067Z",
     "iopub.status.idle": "2020-11-24T15:34:33.915250Z",
     "shell.execute_reply": "2020-11-24T15:34:33.914598Z"
    },
    "papermill": {
     "duration": 44.403186,
     "end_time": "2020-11-24T15:34:33.915380",
     "exception": false,
     "start_time": "2020-11-24T15:33:49.512194",
     "status": "completed"
    },
    "tags": []
   },
   "outputs": [
    {
     "name": "stdout",
     "output_type": "stream",
     "text": [
      "Iteration:  0\n",
      "[9 2 2 ... 2 2 2] [2 7 5 ... 2 0 5]\n",
      "0.0818135593220339\n",
      "Iteration:  10\n",
      "[1 7 1 ... 3 7 1] [2 7 5 ... 2 0 5]\n",
      "0.22094915254237288\n",
      "Iteration:  20\n",
      "[1 7 0 ... 3 7 0] [2 7 5 ... 2 0 5]\n",
      "0.33547457627118643\n",
      "Iteration:  30\n",
      "[1 7 0 ... 3 7 0] [2 7 5 ... 2 0 5]\n",
      "0.41971186440677966\n",
      "Iteration:  40\n",
      "[1 7 0 ... 3 7 0] [2 7 5 ... 2 0 5]\n",
      "0.4780169491525424\n",
      "Iteration:  50\n",
      "[1 7 0 ... 3 7 0] [2 7 5 ... 2 0 5]\n",
      "0.5199322033898305\n",
      "Iteration:  60\n",
      "[1 7 5 ... 1 2 0] [2 7 5 ... 2 0 5]\n",
      "0.5546101694915254\n",
      "Iteration:  70\n",
      "[1 7 5 ... 1 2 2] [2 7 5 ... 2 0 5]\n",
      "0.5857627118644068\n",
      "Iteration:  80\n",
      "[1 7 5 ... 1 2 2] [2 7 5 ... 2 0 5]\n",
      "0.6129322033898305\n",
      "Iteration:  90\n",
      "[1 7 5 ... 1 2 2] [2 7 5 ... 2 0 5]\n",
      "0.6340508474576271\n",
      "Iteration:  100\n",
      "[1 7 5 ... 1 2 8] [2 7 5 ... 2 0 5]\n",
      "0.6552033898305085\n",
      "Iteration:  110\n",
      "[1 7 5 ... 1 2 8] [2 7 5 ... 2 0 5]\n",
      "0.674271186440678\n",
      "Iteration:  120\n",
      "[1 7 5 ... 1 2 8] [2 7 5 ... 2 0 5]\n",
      "0.6905254237288135\n",
      "Iteration:  130\n",
      "[1 7 5 ... 1 2 8] [2 7 5 ... 2 0 5]\n",
      "0.7055762711864407\n",
      "Iteration:  140\n",
      "[1 7 5 ... 1 2 8] [2 7 5 ... 2 0 5]\n",
      "0.7189830508474576\n",
      "Iteration:  150\n",
      "[1 7 5 ... 1 2 8] [2 7 5 ... 2 0 5]\n",
      "0.7307796610169491\n",
      "Iteration:  160\n",
      "[1 7 5 ... 1 2 8] [2 7 5 ... 2 0 5]\n",
      "0.7416101694915255\n",
      "Iteration:  170\n",
      "[1 7 5 ... 1 2 8] [2 7 5 ... 2 0 5]\n",
      "0.7507627118644068\n",
      "Iteration:  180\n",
      "[1 7 5 ... 1 2 8] [2 7 5 ... 2 0 5]\n",
      "0.7594237288135594\n",
      "Iteration:  190\n",
      "[1 7 5 ... 1 2 8] [2 7 5 ... 2 0 5]\n",
      "0.7676271186440679\n",
      "Iteration:  200\n",
      "[1 7 5 ... 1 2 8] [2 7 5 ... 2 0 5]\n",
      "0.7752372881355932\n",
      "Iteration:  210\n",
      "[2 7 5 ... 1 2 8] [2 7 5 ... 2 0 5]\n",
      "0.7812033898305085\n",
      "Iteration:  220\n",
      "[2 7 5 ... 1 2 8] [2 7 5 ... 2 0 5]\n",
      "0.7871016949152543\n",
      "Iteration:  230\n",
      "[2 7 5 ... 1 2 8] [2 7 5 ... 2 0 5]\n",
      "0.7920677966101695\n",
      "Iteration:  240\n",
      "[2 7 5 ... 1 2 8] [2 7 5 ... 2 0 5]\n",
      "0.7964576271186441\n",
      "Iteration:  250\n",
      "[2 7 5 ... 1 2 8] [2 7 5 ... 2 0 5]\n",
      "0.800677966101695\n",
      "Iteration:  260\n",
      "[2 7 5 ... 1 2 8] [2 7 5 ... 2 0 5]\n",
      "0.8048305084745763\n",
      "Iteration:  270\n",
      "[2 7 5 ... 1 2 8] [2 7 5 ... 2 0 5]\n",
      "0.8086271186440678\n",
      "Iteration:  280\n",
      "[2 7 5 ... 1 2 8] [2 7 5 ... 2 0 5]\n",
      "0.812135593220339\n",
      "Iteration:  290\n",
      "[2 7 5 ... 1 2 8] [2 7 5 ... 2 0 5]\n",
      "0.8151694915254237\n",
      "Iteration:  300\n",
      "[2 7 5 ... 1 2 8] [2 7 5 ... 2 0 5]\n",
      "0.8177966101694916\n",
      "Iteration:  310\n",
      "[2 7 5 ... 1 2 8] [2 7 5 ... 2 0 5]\n",
      "0.8203898305084746\n",
      "Iteration:  320\n",
      "[2 7 5 ... 1 2 8] [2 7 5 ... 2 0 5]\n",
      "0.8227966101694916\n",
      "Iteration:  330\n",
      "[2 7 5 ... 1 2 8] [2 7 5 ... 2 0 5]\n",
      "0.8252542372881356\n",
      "Iteration:  340\n",
      "[2 7 5 ... 1 2 8] [2 7 5 ... 2 0 5]\n",
      "0.8277457627118644\n",
      "Iteration:  350\n",
      "[2 7 5 ... 1 2 8] [2 7 5 ... 2 0 5]\n",
      "0.8302372881355932\n",
      "Iteration:  360\n",
      "[2 7 5 ... 1 2 8] [2 7 5 ... 2 0 5]\n",
      "0.8325932203389831\n",
      "Iteration:  370\n",
      "[2 7 5 ... 1 2 8] [2 7 5 ... 2 0 5]\n",
      "0.8345762711864407\n",
      "Iteration:  380\n",
      "[2 7 5 ... 1 2 8] [2 7 5 ... 2 0 5]\n",
      "0.836406779661017\n",
      "Iteration:  390\n",
      "[2 7 5 ... 1 2 8] [2 7 5 ... 2 0 5]\n",
      "0.8383559322033898\n",
      "Iteration:  400\n",
      "[2 7 5 ... 1 2 8] [2 7 5 ... 2 0 5]\n",
      "0.8397457627118644\n",
      "Iteration:  410\n",
      "[2 7 5 ... 1 2 8] [2 7 5 ... 2 0 5]\n",
      "0.841406779661017\n",
      "Iteration:  420\n",
      "[2 7 5 ... 1 2 8] [2 7 5 ... 2 0 5]\n",
      "0.842864406779661\n",
      "Iteration:  430\n",
      "[2 7 5 ... 1 2 8] [2 7 5 ... 2 0 5]\n",
      "0.8447288135593221\n",
      "Iteration:  440\n",
      "[2 7 5 ... 1 2 8] [2 7 5 ... 2 0 5]\n",
      "0.8460847457627119\n",
      "Iteration:  450\n",
      "[2 7 5 ... 1 2 8] [2 7 5 ... 2 0 5]\n",
      "0.8476440677966102\n",
      "Iteration:  460\n",
      "[2 7 5 ... 1 2 8] [2 7 5 ... 2 0 5]\n",
      "0.8490677966101695\n",
      "Iteration:  470\n",
      "[2 7 5 ... 1 2 8] [2 7 5 ... 2 0 5]\n",
      "0.850271186440678\n",
      "Iteration:  480\n",
      "[2 7 5 ... 1 2 8] [2 7 5 ... 2 0 5]\n",
      "0.8515423728813559\n",
      "Iteration:  490\n",
      "[2 7 5 ... 1 2 8] [2 7 5 ... 2 0 5]\n",
      "0.8524406779661017\n",
      "Iteration:  500\n",
      "[2 7 5 ... 1 2 8] [2 7 5 ... 2 0 5]\n",
      "0.8535762711864406\n",
      "Iteration:  510\n",
      "[2 7 5 ... 1 2 8] [2 7 5 ... 2 0 5]\n",
      "0.8545254237288136\n",
      "Iteration:  520\n",
      "[2 7 5 ... 1 2 8] [2 7 5 ... 2 0 5]\n",
      "0.8552372881355932\n",
      "Iteration:  530\n",
      "[2 7 5 ... 1 2 8] [2 7 5 ... 2 0 5]\n",
      "0.8559491525423729\n",
      "Iteration:  540\n",
      "[2 7 5 ... 1 2 8] [2 7 5 ... 2 0 5]\n",
      "0.8568135593220338\n",
      "Iteration:  550\n",
      "[2 7 5 ... 1 2 8] [2 7 5 ... 2 0 5]\n",
      "0.8576271186440678\n",
      "Iteration:  560\n",
      "[2 7 5 ... 1 2 8] [2 7 5 ... 2 0 5]\n",
      "0.858457627118644\n",
      "Iteration:  570\n",
      "[2 7 5 ... 1 2 8] [2 7 5 ... 2 0 5]\n",
      "0.8596101694915255\n",
      "Iteration:  580\n",
      "[2 7 5 ... 1 2 8] [2 7 5 ... 2 0 5]\n",
      "0.8603050847457627\n",
      "Iteration:  590\n",
      "[2 7 5 ... 1 2 8] [2 7 5 ... 2 0 5]\n",
      "0.8609661016949153\n",
      "Iteration:  600\n",
      "[2 7 5 ... 1 2 8] [2 7 5 ... 2 0 5]\n",
      "0.8616271186440678\n",
      "Iteration:  610\n",
      "[2 7 5 ... 1 2 8] [2 7 5 ... 2 0 5]\n",
      "0.8623220338983051\n",
      "Iteration:  620\n",
      "[2 7 5 ... 1 2 8] [2 7 5 ... 2 0 5]\n",
      "0.8628983050847457\n",
      "Iteration:  630\n",
      "[2 7 5 ... 1 2 8] [2 7 5 ... 2 0 5]\n",
      "0.863406779661017\n",
      "Iteration:  640\n",
      "[2 7 5 ... 1 2 8] [2 7 5 ... 2 0 5]\n",
      "0.8641864406779661\n",
      "Iteration:  650\n",
      "[2 7 5 ... 1 2 8] [2 7 5 ... 2 0 5]\n",
      "0.8646779661016949\n",
      "Iteration:  660\n",
      "[2 7 5 ... 1 2 8] [2 7 5 ... 2 0 5]\n",
      "0.8652033898305085\n",
      "Iteration:  670\n",
      "[2 7 5 ... 1 2 8] [2 7 5 ... 2 0 5]\n",
      "0.8657627118644068\n",
      "Iteration:  680\n",
      "[2 7 5 ... 1 2 8] [2 7 5 ... 2 0 5]\n",
      "0.8663728813559322\n",
      "Iteration:  690\n",
      "[2 7 5 ... 1 2 8] [2 7 5 ... 2 0 5]\n",
      "0.8669491525423729\n",
      "Iteration:  700\n",
      "[2 7 5 ... 1 2 8] [2 7 5 ... 2 0 5]\n",
      "0.8673220338983051\n",
      "Iteration:  710\n",
      "[2 7 5 ... 1 2 8] [2 7 5 ... 2 0 5]\n",
      "0.8680338983050847\n",
      "Iteration:  720\n",
      "[2 7 5 ... 1 2 8] [2 7 5 ... 2 0 5]\n",
      "0.8686440677966102\n",
      "Iteration:  730\n",
      "[2 7 5 ... 1 2 8] [2 7 5 ... 2 0 5]\n",
      "0.8692542372881356\n",
      "Iteration:  740\n",
      "[2 7 5 ... 1 2 8] [2 7 5 ... 2 0 5]\n",
      "0.8698135593220339\n",
      "Iteration:  750\n",
      "[2 7 5 ... 1 2 8] [2 7 5 ... 2 0 5]\n",
      "0.8703050847457627\n",
      "Iteration:  760\n",
      "[2 7 5 ... 1 2 8] [2 7 5 ... 2 0 5]\n",
      "0.8707796610169491\n",
      "Iteration:  770\n",
      "[2 7 5 ... 1 2 8] [2 7 5 ... 2 0 5]\n",
      "0.8713389830508474\n",
      "Iteration:  780\n",
      "[2 7 5 ... 1 2 8] [2 7 5 ... 2 0 5]\n",
      "0.8718305084745762\n",
      "Iteration:  790\n",
      "[2 7 5 ... 1 2 8] [2 7 5 ... 2 0 5]\n",
      "0.8726271186440678\n",
      "Iteration:  800\n",
      "[2 7 5 ... 1 2 8] [2 7 5 ... 2 0 5]\n",
      "0.8729491525423729\n",
      "Iteration:  810\n",
      "[2 7 5 ... 1 2 8] [2 7 5 ... 2 0 5]\n",
      "0.8733728813559322\n",
      "Iteration:  820\n",
      "[2 7 5 ... 1 2 8] [2 7 5 ... 2 0 5]\n",
      "0.8738813559322034\n",
      "Iteration:  830\n",
      "[2 7 5 ... 1 2 8] [2 7 5 ... 2 0 5]\n",
      "0.8744406779661017\n",
      "Iteration:  840\n",
      "[2 7 5 ... 1 2 8] [2 7 5 ... 2 0 5]\n",
      "0.8748474576271187\n",
      "Iteration:  850\n",
      "[2 7 5 ... 1 2 8] [2 7 5 ... 2 0 5]\n",
      "0.8753220338983051\n",
      "Iteration:  860\n",
      "[2 7 5 ... 1 2 8] [2 7 5 ... 2 0 5]\n",
      "0.8756779661016949\n",
      "Iteration:  870\n",
      "[2 7 5 ... 1 2 8] [2 7 5 ... 2 0 5]\n",
      "0.8761694915254238\n",
      "Iteration:  880\n",
      "[2 7 5 ... 1 2 8] [2 7 5 ... 2 0 5]\n",
      "0.8764745762711864\n",
      "Iteration:  890\n",
      "[2 7 5 ... 1 2 8] [2 7 5 ... 2 0 5]\n",
      "0.876864406779661\n",
      "Iteration:  900\n",
      "[2 7 5 ... 1 2 8] [2 7 5 ... 2 0 5]\n",
      "0.8771694915254238\n",
      "Iteration:  910\n",
      "[2 7 5 ... 1 2 8] [2 7 5 ... 2 0 5]\n",
      "0.877593220338983\n",
      "Iteration:  920\n",
      "[2 7 5 ... 1 2 8] [2 7 5 ... 2 0 5]\n",
      "0.8780847457627119\n",
      "Iteration:  930\n",
      "[2 7 5 ... 1 2 8] [2 7 5 ... 2 0 5]\n",
      "0.8785593220338983\n",
      "Iteration:  940\n",
      "[2 7 5 ... 1 2 8] [2 7 5 ... 2 0 5]\n",
      "0.8789152542372881\n",
      "Iteration:  950\n",
      "[2 7 5 ... 1 2 8] [2 7 5 ... 2 0 5]\n",
      "0.8792372881355932\n",
      "Iteration:  960\n",
      "[2 7 5 ... 1 2 8] [2 7 5 ... 2 0 5]\n",
      "0.8796440677966102\n",
      "Iteration:  970\n",
      "[2 7 5 ... 1 2 8] [2 7 5 ... 2 0 5]\n",
      "0.8801864406779661\n",
      "Iteration:  980\n",
      "[2 7 5 ... 1 2 8] [2 7 5 ... 2 0 5]\n",
      "0.8803389830508475\n",
      "Iteration:  990\n",
      "[2 7 5 ... 1 2 8] [2 7 5 ... 2 0 5]\n",
      "0.8807796610169492\n"
     ]
    }
   ],
   "source": [
    "W1, b1, W2, b2 = gradient_descent(X_train, Y_train, 0.10, 1000)"
   ]
  },
  {
   "cell_type": "code",
   "execution_count": 7,
   "metadata": {},
   "outputs": [
    {
     "data": {
      "image/png": "[encoded data removed]",
      "text/plain": [
       "<Figure size 640x480 with 1 Axes>"
      ]
     },
     "metadata": {},
     "output_type": "display_data"
    },
    {
     "data": {
      "image/png": "[encoded data removed]",
      "text/plain": [
       "<Figure size 640x480 with 1 Axes>"
      ]
     },
     "metadata": {},
     "output_type": "display_data"
    }
   ],
   "source": [
    "plt.plot(accuracies)\n",
    "plt.xlabel('Epochs')\n",
    "plt.ylabel('Accuracy')\n",
    "plt.title('Accuracy over training epochs')\n",
    "plt.show()\n",
    "\n",
    "plt.plot(losses)\n",
    "plt.xlabel('Epochs')\n",
    "plt.ylabel('Loss')\n",
    "plt.title('Loss over training epochs')\n",
    "plt.show()"
   ]
  },
  {
   "cell_type": "code",
   "execution_count": 8,
   "metadata": {
    "execution": {
     "iopub.execute_input": "2020-11-24T15:34:34.058947Z",
     "iopub.status.busy": "2020-11-24T15:34:34.058192Z",
     "iopub.status.idle": "2020-11-24T15:34:34.061542Z",
     "shell.execute_reply": "2020-11-24T15:34:34.060921Z"
    },
    "papermill": {
     "duration": 0.048197,
     "end_time": "2020-11-24T15:34:34.061656",
     "exception": false,
     "start_time": "2020-11-24T15:34:34.013459",
     "status": "completed"
    },
    "tags": []
   },
   "outputs": [],
   "source": [
    "def make_predictions(X, W1, b1, W2, b2):\n",
    "    _, _, _, A2 = forward_prop(W1, b1, W2, b2, X)\n",
    "    predictions = get_predictions(A2)\n",
    "    return predictions\n",
    "\n",
    "def test_prediction(index, W1, b1, W2, b2):\n",
    "    current_image = X_train[:, index, None]\n",
    "    prediction = make_predictions(X_train[:, index, None], W1, b1, W2, b2)\n",
    "    label = Y_train[index]\n",
    "    print(\"Prediction: \", prediction)\n",
    "    print(\"Label: \", label)\n",
    "    \n",
    "    current_image = current_image.reshape((28, 28)) * 255\n",
    "    plt.gray()\n",
    "    plt.imshow(current_image, interpolation='nearest')\n",
    "    plt.show()"
   ]
  },
  {
   "cell_type": "code",
   "execution_count": 9,
   "metadata": {
    "execution": {
     "iopub.execute_input": "2020-11-24T15:34:34.198764Z",
     "iopub.status.busy": "2020-11-24T15:34:34.197926Z",
     "iopub.status.idle": "2020-11-24T15:34:34.858256Z",
     "shell.execute_reply": "2020-11-24T15:34:34.857536Z"
    },
    "papermill": {
     "duration": 0.699008,
     "end_time": "2020-11-24T15:34:34.858375",
     "exception": false,
     "start_time": "2020-11-24T15:34:34.159367",
     "status": "completed"
    },
    "tags": []
   },
   "outputs": [
    {
     "name": "stdout",
     "output_type": "stream",
     "text": [
      "Prediction:  [2]\n",
      "Label:  2\n"
     ]
    },
    {
     "data": {
      "image/png": "[encoded data removed]",
      "text/plain": [
       "<Figure size 640x480 with 1 Axes>"
      ]
     },
     "metadata": {},
     "output_type": "display_data"
    },
    {
     "name": "stdout",
     "output_type": "stream",
     "text": [
      "Prediction:  [7]\n",
      "Label:  7\n"
     ]
    },
    {
     "data": {
      "image/png": "[encoded data removed]",
      "text/plain": [
       "<Figure size 640x480 with 1 Axes>"
      ]
     },
     "metadata": {},
     "output_type": "display_data"
    },
    {
     "name": "stdout",
     "output_type": "stream",
     "text": [
      "Prediction:  [5]\n",
      "Label:  5\n"
     ]
    },
    {
     "data": {
      "image/png": "[encoded data removed]",
      "text/plain": [
       "<Figure size 640x480 with 1 Axes>"
      ]
     },
     "metadata": {},
     "output_type": "display_data"
    },
    {
     "name": "stdout",
     "output_type": "stream",
     "text": [
      "Prediction:  [3]\n",
      "Label:  3\n"
     ]
    },
    {
     "data": {
      "image/png": "[encoded data removed]",
      "text/plain": [
       "<Figure size 640x480 with 1 Axes>"
      ]
     },
     "metadata": {},
     "output_type": "display_data"
    }
   ],
   "source": [
    "test_prediction(0, W1, b1, W2, b2)\n",
    "test_prediction(1, W1, b1, W2, b2)\n",
    "test_prediction(2, W1, b1, W2, b2)\n",
    "test_prediction(3, W1, b1, W2, b2)"
   ]
  },
  {
   "cell_type": "code",
   "execution_count": 10,
   "metadata": {
    "execution": {
     "iopub.execute_input": "2020-11-24T15:34:35.013161Z",
     "iopub.status.busy": "2020-11-24T15:34:35.012371Z",
     "iopub.status.idle": "2020-11-24T15:34:35.033284Z",
     "shell.execute_reply": "2020-11-24T15:34:35.032394Z"
    },
    "papermill": {
     "duration": 0.062985,
     "end_time": "2020-11-24T15:34:35.033457",
     "exception": false,
     "start_time": "2020-11-24T15:34:34.970472",
     "status": "completed"
    },
    "tags": []
   },
   "outputs": [
    {
     "name": "stdout",
     "output_type": "stream",
     "text": [
      "[2 1 4 2 4 8 9 6 9 6 9 4 5 4 7 4 0 8 0 7 6 7 2 6 4 7 4 3 9 1 8 0 7 5 1 0 8\n",
      " 6 3 1 1 5 8 2 1 6 6 6 4 4 6 4 8 7 7 6 9 4 6 3 9 4 3 1 3 1 7 4 3 9 7 9 6 3\n",
      " 0 5 5 9 8 6 8 6 8 8 2 2 3 0 4 1 3 3 0 1 4 3 8 6 0 6 2 5 7 5 1 3 9 1 2 6 3\n",
      " 1 3 6 2 5 0 7 5 8 7 8 9 9 2 3 1 1 3 9 3 4 4 2 6 8 1 8 0 1 4 2 7 6 6 9 5 7\n",
      " 1 8 3 8 2 9 1 0 8 1 0 3 8 8 6 4 6 7 0 0 7 7 7 6 7 8 2 8 7 0 2 1 5 9 8 8 6\n",
      " 5 2 7 7 3 9 0 3 9 0 9 6 9 7 1 5 5 7 4 9 7 2 9 1 6 8 0 2 0 6 4 9 6 9 4 5 5\n",
      " 5 4 0 5 0 4 5 5 1 6 9 8 3 7 6 9 9 5 6 3 3 8 6 3 6 1 4 6 2 9 1 8 2 5 5 8 0\n",
      " 1 5 7 8 8 0 4 5 3 6 3 7 5 1 6 6 1 8 4 6 1 5 5 1 9 6 0 8 2 8 6 5 8 0 3 7 6\n",
      " 9 0 0 8 2 5 1 7 9 8 4 1 1 8 4 4 2 4 0 0 3 3 4 6 3 5 5 4 3 2 7 8 4 3 2 3 0\n",
      " 6 8 1 2 8 2 5 1 2 7 1 7 9 4 1 2 3 6 9 9 1 6 5 3 6 1 1 7 9 0 1 4 5 7 1 6 3\n",
      " 4 9 4 9 1 1 5 8 7 7 1 6 6 1 1 4 7 3 7 2 3 1 6 4 2 7 0 7 3 7 0 9 3 3 2 9 6\n",
      " 7 0 4 0 3 7 0 4 6 8 7 8 3 9 9 4 6 9 8 2 3 5 6 3 3 6 4 0 1 7 8 0 7 1 1 0 7\n",
      " 3 1 7 7 4 7 8 9 2 0 3 6 4 2 9 4 9 9 6 7 4 9 9 2 3 0 6 4 9 3 8 4 8 6 0 9 1\n",
      " 5 9 2 4 7 6 1 5 0 2 3 0 7 1 8 9 7 8 4 0 4 2 7 6 3 0 6 6 7 3 3 6 4 5 8 4 1\n",
      " 7 9 7 7 9 3 1 8 9 9 0 8 6 5 7 8 7 3 1 5 1 0 0 1 4 8 3 1 3 6 1 1 2 0 8 0 9\n",
      " 1 5 1 9 2 0 8 8 6 8 1 1 1 2 4 3 1 1 7 5 8 0 0 8 3 6 1 1 4 2 1 7 6 7 8 1 1\n",
      " 6 2 4 6 8 2 1 2 9 6 2 5 9 2 6 1 3 4 0 6 1 6 1 1 7 9 0 8 7 3 0 1 9 2 2 7 1\n",
      " 8 5 7 9 9 3 8 4 0 8 3 7 7 5 1 2 4 8 4 6 9 6 7 2 7 1 8 2 0 8 4 9 7 8 6 1 1\n",
      " 7 7 2 4 6 1 9 0 1 9 8 1 5 0 1 8 2 9 7 5 2 6 7 9 0 0 8 6 2 8 9 4 8 9 8 6 8\n",
      " 2 4 1 7 0 1 2 0 7 3 9 5 2 7 1 4 8 6 1 3 8 0 1 9 0 1 7 7 1 1 1 7 1 3 7 6 8\n",
      " 2 3 6 2 8 3 8 2 4 7 7 6 3 9 7 3 2 2 5 0 6 5 9 9 9 4 5 9 5 0 0 5 1 6 0 2 1\n",
      " 6 4 5 9 6 0 0 3 1 3 2 8 8 0 1 8 1 4 2 5 9 7 6 6 9 3 4 9 9 0 8 5 0 3 9 2 6\n",
      " 5 6 4 2 3 0 7 9 9 3 3 3 3 9 3 6 9 0 5 3 2 6 1 2 3 5 9 1 7 2 4 6 7 0 3 7 5\n",
      " 3 5 6 0 0 3 9 6 9 0 2 3 1 4 1 6 4 6 6 1 6 4 1 2 7 2 3 1 0 5 9 2 6 6 2 8 1\n",
      " 2 4 5 9 4 3 2 0 8 5 7 4 7 6 0 4 7 6 4 0 8 3 0 1 8 8 7 0 8 4 9 4 9 5 0 8 8\n",
      " 3 9 3 5 6 4 9 7 2 6 8 7 1 5 3 9 3 0 8 2 2 1 7 0 6 7 3 5 3 0 9 3 1 6 0 7 5\n",
      " 7 1 8 0 9 4 3 2 9 2 1 5 5 7 2 1 6 7 0 3 9 3 0 9 4 5 4 6 5 6 6 6 4 1 6 4 1\n",
      " 2] [2 1 4 2 4 8 3 3 9 6 9 4 5 4 7 4 0 4 0 7 6 7 2 6 4 7 4 3 9 1 8 0 7 3 1 0 8\n",
      " 6 3 1 1 5 8 4 1 6 6 6 4 9 6 4 5 7 7 6 3 4 6 3 9 4 3 1 3 1 5 4 3 9 7 9 6 3\n",
      " 5 5 5 9 8 6 4 0 8 8 2 2 3 0 4 1 7 3 0 1 4 3 8 6 0 6 2 5 7 5 1 3 9 1 2 8 3\n",
      " 1 3 6 5 5 0 7 5 8 7 8 8 9 2 3 1 2 3 9 3 4 1 2 6 8 1 8 0 1 4 2 9 6 6 9 5 7\n",
      " 1 8 3 8 2 9 1 0 5 1 0 8 5 8 6 4 6 7 0 0 9 7 7 6 7 8 2 5 9 0 2 1 5 9 8 8 6\n",
      " 5 2 7 4 3 9 0 3 9 0 9 8 9 7 1 5 8 7 4 7 7 2 9 2 6 5 0 2 0 6 4 9 6 9 4 3 5\n",
      " 0 4 0 5 0 4 5 5 1 6 9 8 3 7 6 9 9 5 6 3 3 5 6 3 6 1 4 6 2 4 1 8 2 5 5 8 0\n",
      " 1 5 7 8 8 0 4 5 3 6 5 7 5 1 6 6 1 8 4 6 1 5 5 1 9 5 0 8 2 8 6 5 8 0 3 7 6\n",
      " 9 0 0 8 2 5 1 9 9 8 4 1 1 8 5 4 2 4 0 0 3 3 4 6 2 5 5 9 3 2 7 5 4 3 2 3 0\n",
      " 6 8 1 2 8 3 5 1 2 7 1 7 9 4 1 2 3 6 9 7 1 6 5 3 6 1 1 7 9 5 1 4 5 7 1 6 3\n",
      " 4 9 4 4 1 1 5 8 7 7 1 6 6 1 4 4 7 8 7 2 3 1 6 4 2 7 8 7 3 7 0 8 3 3 3 7 6\n",
      " 7 0 9 0 3 7 0 4 4 2 7 8 3 9 7 6 6 9 8 2 3 3 6 3 3 6 4 0 1 7 8 2 7 1 1 0 7\n",
      " 3 1 7 7 4 1 1 9 2 0 3 6 4 2 8 4 4 9 6 7 4 9 9 3 3 0 6 4 9 3 8 4 8 6 0 9 1\n",
      " 8 9 2 8 7 8 1 5 0 2 2 0 7 1 8 9 7 8 4 0 4 2 7 6 3 0 6 6 7 3 3 6 9 3 8 4 1\n",
      " 7 4 7 9 9 3 1 8 9 9 0 8 5 3 7 8 7 3 1 5 1 0 0 1 4 8 3 1 3 6 1 1 2 0 8 0 4\n",
      " 1 5 1 9 2 0 8 2 6 8 1 1 1 2 4 3 7 1 7 5 8 0 0 8 3 6 1 1 4 2 1 7 6 7 8 1 1\n",
      " 6 6 4 6 8 2 1 2 9 4 2 5 3 2 6 8 3 4 6 6 1 8 1 1 7 9 0 1 4 3 0 1 9 6 2 7 1\n",
      " 8 8 7 3 9 7 8 4 0 8 3 7 7 5 1 2 4 8 4 6 9 6 7 2 7 1 8 3 0 8 8 9 7 9 6 1 1\n",
      " 8 7 6 4 6 1 4 0 1 9 8 1 5 0 1 8 2 9 7 5 2 6 7 9 0 0 8 6 2 8 9 4 8 9 8 6 8\n",
      " 2 4 8 7 0 1 2 0 7 0 9 5 2 7 1 4 8 6 1 3 8 2 1 9 0 1 7 7 1 1 1 9 1 3 7 6 8\n",
      " 2 3 6 2 8 3 8 2 4 7 9 6 3 9 7 3 2 2 5 0 6 3 9 9 9 4 5 9 5 0 0 5 1 2 0 2 1\n",
      " 6 4 4 9 6 5 0 3 1 3 2 8 8 0 1 8 1 4 4 5 9 7 6 6 9 3 4 7 8 0 8 5 0 3 9 2 6\n",
      " 5 5 4 2 3 0 7 9 9 3 3 8 3 7 3 6 9 0 5 3 2 6 8 2 3 5 9 8 7 2 4 6 7 0 3 7 5\n",
      " 3 5 7 0 0 3 9 6 9 0 2 8 1 4 1 6 4 6 6 1 6 4 1 2 7 2 3 1 0 5 7 2 6 6 2 8 1\n",
      " 2 4 5 9 9 2 2 0 8 5 7 4 7 8 0 4 7 6 4 0 8 3 0 1 1 8 7 0 4 4 9 4 4 5 0 8 8\n",
      " 3 9 3 5 6 4 9 7 2 6 8 2 1 3 3 9 2 0 8 2 2 1 7 0 6 7 9 5 3 0 9 3 1 6 6 7 5\n",
      " 7 1 8 0 9 4 3 2 9 2 9 5 3 7 2 1 6 7 0 3 4 3 0 9 4 5 4 4 8 5 0 6 4 1 6 4 1\n",
      " 2]\n"
     ]
    },
    {
     "data": {
      "text/plain": [
       "0.867"
      ]
     },
     "execution_count": 10,
     "metadata": {},
     "output_type": "execute_result"
    }
   ],
   "source": [
    "dev_predictions = make_predictions(X_dev, W1, b1, W2, b2)\n",
    "get_accuracy(dev_predictions, Y_dev)"
   ]
  }
 ],
 "metadata": {
  "kernelspec": {
   "display_name": "env",
   "language": "python",
   "name": "python3"
  },
  "language_info": {
   "codemirror_mode": {
    "name": "ipython",
    "version": 3
   },
   "file_extension": ".py",
   "mimetype": "text/x-python",
   "name": "python",
   "nbconvert_exporter": "python",
   "pygments_lexer": "ipython3",
   "version": "3.9.18"
  },
  "papermill": {
   "duration": 55.320944,
   "end_time": "2020-11-24T15:34:35.258832",
   "environment_variables": {},
   "exception": null,
   "input_path": "__notebook__.ipynb",
   "output_path": "__notebook__.ipynb",
   "parameters": {},
   "start_time": "2020-11-24T15:33:39.937888",
   "version": "2.1.0"
  }
 },
 "nbformat": 4,
 "nbformat_minor": 4
}
